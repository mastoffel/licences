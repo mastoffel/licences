{
 "cells": [
  {
   "cell_type": "code",
   "execution_count": null,
   "metadata": {},
   "outputs": [],
   "source": [
    "import requests\n",
    "import os\n",
    "import logging\n",
    "from collections import Counter"
   ]
  },
  {
   "cell_type": "markdown",
   "metadata": {},
   "source": [
    "# get licence data\n",
    "- from turing org repos\n",
    "- using github's graphql api"
   ]
  },
  {
   "cell_type": "code",
   "execution_count": null,
   "metadata": {},
   "outputs": [],
   "source": [
    "logging.basicConfig(level=logging.INFO, format='%(asctime)s - %(levelname)s - %(message)s')"
   ]
  },
  {
   "cell_type": "code",
   "execution_count": null,
   "metadata": {},
   "outputs": [],
   "source": [
    "# endpoint\n",
    "url = 'https://api.github.com/graphql'\n",
    "token = os.environ.get('GITHUB_TOKEN')\n",
    "org_name = \"alan-turing-institute\""
   ]
  },
  {
   "cell_type": "code",
   "execution_count": null,
   "metadata": {},
   "outputs": [],
   "source": [
    "query = '''\n",
    "query($org: String!, $cursor: String) {\n",
    "  organization(login: $org) {\n",
    "    repositories(first: 100, after: $cursor) {\n",
    "      pageInfo {\n",
    "        hasNextPage\n",
    "        endCursor\n",
    "      }\n",
    "      nodes {\n",
    "        name\n",
    "        licenseInfo {\n",
    "          name\n",
    "        }\n",
    "        isPrivate\n",
    "      }\n",
    "    }\n",
    "  }\n",
    "}\n",
    "'''"
   ]
  },
  {
   "cell_type": "code",
   "execution_count": null,
   "metadata": {},
   "outputs": [],
   "source": [
    "def run_query(query, variables):\n",
    "    headers = {'Authorization': f'Bearer {token}'}\n",
    "    response = requests.post(url, json={'query': query, 'variables': variables}, headers=headers)\n",
    "    if response.status_code == 200:\n",
    "        return response.json()\n",
    "    else:\n",
    "        raise Exception(f\"Query failed with status code: {response.status_code}\")\n",
    "\n"
   ]
  },
  {
   "cell_type": "code",
   "execution_count": null,
   "metadata": {},
   "outputs": [],
   "source": [
    "def get_all_licenses():\n",
    "    licenses = []\n",
    "    inaccessible_repos = []\n",
    "    variables = {'org': org_name, 'cursor': None}\n",
    "    \n",
    "    while True:\n",
    "        try:\n",
    "            result = run_query(query, variables)\n",
    "            repos = result['data']['organization']['repositories']\n",
    "            \n",
    "            for repo in repos['nodes']:\n",
    "                repo_name = repo['name']\n",
    "                license_info = repo['licenseInfo']\n",
    "                is_private = repo['isPrivate']\n",
    "                #created_at = repo['createdAt']\n",
    "                \n",
    "                if license_info:\n",
    "                    licenses.append(license_info['name'])\n",
    "                    logging.info(f\"Repository: {repo_name}, License: {license_info['name']}\")\n",
    "                else:\n",
    "                    if is_private:\n",
    "                        inaccessible_repos.append(repo_name)\n",
    "                        logging.warning(f\"No access to license info for private repository: {repo_name}\")\n",
    "                    else:\n",
    "                        licenses.append('No license')\n",
    "                        logging.info(f\"Repository: {repo_name}, License: No license\")\n",
    "            \n",
    "            if not repos['pageInfo']['hasNextPage']:\n",
    "                break\n",
    "            \n",
    "            variables['cursor'] = repos['pageInfo']['endCursor']\n",
    "        \n",
    "        except Exception as e:\n",
    "            logging.error(f\"Error occurred while fetching data: {str(e)}\")\n",
    "            break\n",
    "    \n",
    "    return licenses, inaccessible_repos"
   ]
  },
  {
   "cell_type": "code",
   "execution_count": null,
   "metadata": {},
   "outputs": [],
   "source": [
    "logging.info(f\"Starting script with token: {token[:4]}...{token[-4:]} (length: {len(token)})\")\n",
    "logging.info(f\"Organization name: {org_name}\")\n",
    "    \n",
    "all_licenses, inaccessible_repos= get_all_licenses()"
   ]
  },
  {
   "cell_type": "code",
   "execution_count": null,
   "metadata": {},
   "outputs": [],
   "source": [
    "len(all_licenses)\n",
    "len(inaccessible_repos)"
   ]
  },
  {
   "cell_type": "markdown",
   "metadata": {},
   "source": [
    "# plot"
   ]
  },
  {
   "cell_type": "code",
   "execution_count": null,
   "metadata": {},
   "outputs": [],
   "source": [
    "import matplotlib.pyplot as plt\n",
    "import pandas as pd\n",
    "import seaborn as sns\n",
    "\n",
    "sns.set_palette(\"deep\")"
   ]
  },
  {
   "cell_type": "code",
   "execution_count": null,
   "metadata": {},
   "outputs": [],
   "source": [
    "df = pd.DataFrame(all_licenses, columns=['license'])\n",
    "df.head()\n",
    "df['license'].value_counts()"
   ]
  },
  {
   "cell_type": "code",
   "execution_count": null,
   "metadata": {},
   "outputs": [],
   "source": [
    "plt.style.use('dark_background')\n",
    "\n",
    "fig, ax = plt.subplots(figsize=(12, 9))\n",
    "fig.patch.set_facecolor('#404040')  \n",
    "ax.set_facecolor('#404040') \n",
    "\n",
    "licence_counts = df['license'].value_counts()\n",
    "licence_counts['Inaccessible'] = len(inaccessible_repos)\n",
    "\n",
    "licence_counts_sorted = licence_counts.sort_values(ascending=False)\n",
    "inaccessible_count = licence_counts_sorted.pop('Inaccessible')\n",
    "licence_counts_sorted = pd.concat([licence_counts_sorted, pd.Series({'Inaccessible': inaccessible_count})])\n",
    "\n",
    "licence_counts_sorted.plot(kind='bar', ax=ax, color='goldenrod')\n",
    "\n",
    "ax.set_title('Licences in Turing repos', fontsize=20, fontweight='bold', pad=20, color='white')\n",
    "ax.set_ylabel('# repos', fontsize=18, labelpad=10, color='white')\n",
    "ax.set_xlabel('')\n",
    "\n",
    "plt.xticks(rotation=45, ha='right', fontsize=14, color='lightgrey')\n",
    "plt.yticks(fontsize=14, color='lightgrey')\n",
    "\n",
    "for i, v in enumerate(licence_counts_sorted):\n",
    "    ax.text(i, v + 0.5, str(v), ha='center', va='bottom', color='white', fontsize=14)\n",
    "\n",
    "ax.spines['top'].set_visible(False)\n",
    "ax.spines['right'].set_visible(False)\n",
    "ax.spines['bottom'].set_color('lightgrey')\n",
    "ax.spines['left'].set_color('lightgrey')\n",
    "\n",
    "ax.tick_params(axis='x', colors='lightgrey')\n",
    "ax.tick_params(axis='y', colors='lightgrey')\n",
    "\n",
    "plt.tight_layout()\n",
    "\n",
    "plt.savefig('turing_licenses_plot.png', format='png', dpi=600, bbox_inches='tight', transparent=True)\n"
   ]
  }
 ],
 "metadata": {
  "kernelspec": {
   "display_name": ".venv",
   "language": "python",
   "name": "python3"
  },
  "language_info": {
   "codemirror_mode": {
    "name": "ipython",
    "version": 3
   },
   "file_extension": ".py",
   "mimetype": "text/x-python",
   "name": "python",
   "nbconvert_exporter": "python",
   "pygments_lexer": "ipython3",
   "version": "3.12.3"
  }
 },
 "nbformat": 4,
 "nbformat_minor": 2
}
